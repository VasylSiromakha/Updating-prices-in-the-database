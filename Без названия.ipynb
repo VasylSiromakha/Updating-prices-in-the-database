{
 "cells": [
  {
   "cell_type": "code",
   "execution_count": 2,
   "id": "55a8b640",
   "metadata": {},
   "outputs": [],
   "source": [
    "import pandas as pd"
   ]
  },
  {
   "cell_type": "code",
   "execution_count": 3,
   "id": "1326afa5",
   "metadata": {},
   "outputs": [],
   "source": [
    "import numpy as np"
   ]
  },
  {
   "cell_type": "code",
   "execution_count": 4,
   "id": "18e3107e",
   "metadata": {},
   "outputs": [],
   "source": [
    "df = pd.read_excel('sun_notebook_parts.xls')"
   ]
  },
  {
   "cell_type": "code",
   "execution_count": 5,
   "id": "44b5d8b4",
   "metadata": {},
   "outputs": [],
   "source": [
    "df = df.iloc [10: , :]"
   ]
  },
  {
   "cell_type": "code",
   "execution_count": 6,
   "id": "26eadb7e",
   "metadata": {},
   "outputs": [],
   "source": [
    "df = df[['Unnamed: 5', 'Unnamed: 9']].rename(columns={'Unnamed: 5': 'ID', 'Unnamed: 9': 'Price'})"
   ]
  },
  {
   "cell_type": "code",
   "execution_count": 7,
   "id": "19e5e1fc",
   "metadata": {},
   "outputs": [
    {
     "name": "stdout",
     "output_type": "stream",
     "text": [
      "       ID Price\n",
      "10    NaN   NaN\n",
      "11  16252    31\n",
      "12  64781    33\n",
      "13    NaN   NaN\n",
      "14  63484    30\n",
      "15  67399    30\n",
      "16  62107    30\n",
      "17  65196    38\n",
      "18  65321    32\n",
      "19  65836    57\n"
     ]
    }
   ],
   "source": [
    "print(df[:10])"
   ]
  },
  {
   "cell_type": "code",
   "execution_count": 8,
   "id": "e735fdbf",
   "metadata": {},
   "outputs": [],
   "source": [
    "df = df.sort_values('ID')"
   ]
  },
  {
   "cell_type": "code",
   "execution_count": 9,
   "id": "825bffee",
   "metadata": {},
   "outputs": [
    {
     "name": "stdout",
     "output_type": "stream",
     "text": [
      "         ID Price\n",
      "2836   3773    30\n",
      "2784  15283    16\n",
      "2790  15410    32\n",
      "863   15615    17\n",
      "943   15621    17\n",
      "783   15938    14\n",
      "789   15940    17\n",
      "965   15942    16\n",
      "840   15943    13\n",
      "774   15965    12\n"
     ]
    }
   ],
   "source": [
    "print(df[:10])"
   ]
  },
  {
   "cell_type": "code",
   "execution_count": 10,
   "id": "f3a13b8f",
   "metadata": {},
   "outputs": [],
   "source": [
    "price_SUN_usd = pd.DataFrame(columns=['ID', 'Price'])"
   ]
  },
  {
   "cell_type": "code",
   "execution_count": 11,
   "id": "5d81dccb",
   "metadata": {},
   "outputs": [],
   "source": [
    "df2 = pd.read_xml('xmlForClients.xml')"
   ]
  },
  {
   "cell_type": "code",
   "execution_count": 12,
   "id": "127e8098",
   "metadata": {},
   "outputs": [
    {
     "name": "stdout",
     "output_type": "stream",
     "text": [
      "        id              category  item\n",
      "0   4428.0         Память SoDIMM   NaN\n",
      "1   5298.0   Жесткие диски (HDD)   NaN\n",
      "2   9724.0         Блоки питания   NaN\n",
      "3  22147.0   Жесткие диски (SSD)   NaN\n",
      "4  29001.0               Матрицы   NaN\n",
      "5  29002.0            Клавиатуры   NaN\n",
      "6  29004.0               Батареи   NaN\n",
      "7  29006.0           Переходники   NaN\n",
      "8  33346.0            Микросхемы   NaN\n",
      "9  34100.0  Вентиляторы (Кулеры)   NaN\n"
     ]
    }
   ],
   "source": [
    "print(df2[:10])"
   ]
  },
  {
   "cell_type": "code",
   "execution_count": 13,
   "id": "be581563",
   "metadata": {},
   "outputs": [
    {
     "name": "stdout",
     "output_type": "stream",
     "text": [
      "         ID Price\n",
      "2836   3773    30\n",
      "2784  15283    16\n",
      "2790  15410    32\n",
      "863   15615    17\n",
      "943   15621    17\n"
     ]
    }
   ],
   "source": [
    "print(df.head())"
   ]
  },
  {
   "cell_type": "code",
   "execution_count": null,
   "id": "3fd1a0c2",
   "metadata": {},
   "outputs": [],
   "source": []
  }
 ],
 "metadata": {
  "kernelspec": {
   "display_name": "Python 3 (ipykernel)",
   "language": "python",
   "name": "python3"
  },
  "language_info": {
   "codemirror_mode": {
    "name": "ipython",
    "version": 3
   },
   "file_extension": ".py",
   "mimetype": "text/x-python",
   "name": "python",
   "nbconvert_exporter": "python",
   "pygments_lexer": "ipython3",
   "version": "3.10.6"
  }
 },
 "nbformat": 4,
 "nbformat_minor": 5
}
